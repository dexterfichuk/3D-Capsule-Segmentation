{
 "cells": [
  {
   "cell_type": "markdown",
   "metadata": {
    "colab_type": "text",
    "id": "GHWlXA57aj97"
   },
   "source": [
    "# Training U-Net"
   ]
  },
  {
   "cell_type": "markdown",
   "metadata": {
    "colab_type": "text",
    "id": "GyRbpQDdVHnp"
   },
   "source": [
    "### Load NPZ"
   ]
  },
  {
   "cell_type": "code",
   "execution_count": 1,
   "metadata": {
    "colab": {},
    "colab_type": "code",
    "id": "Gwda7ZMRQcIn"
   },
   "outputs": [],
   "source": [
    "import numpy as np\n",
    "import sys\n",
    "from tqdm import tqdm\n",
    "from itertools import chain\n",
    "from skimage.io import imread, imshow, imread_collection, concatenate_images\n",
    "from skimage.transform import resize\n",
    "from skimage.morphology import label\n",
    "\n",
    "  \n",
    "import os\n",
    "import sys\n",
    "import random\n",
    "import warnings\n",
    "\n",
    "import numpy as np\n",
    "import pandas as pd\n",
    "\n",
    "import matplotlib.pyplot as plt\n",
    "\n",
    "from tqdm import tqdm\n",
    "from itertools import chain\n",
    "from skimage.io import imread, imshow, imread_collection, concatenate_images\n",
    "from skimage.transform import resize\n",
    "from skimage.morphology import label\n",
    "\n",
    "\n",
    "\n",
    "def load_data():\n",
    "    return np.load(\"X_promise.npy\"), np.load(\"y_promise.npy\")"
   ]
  },
  {
   "cell_type": "code",
   "execution_count": 3,
   "metadata": {
    "colab": {},
    "colab_type": "code",
    "id": "dN0GWwmEVk5H"
   },
   "outputs": [],
   "source": [
    "# img_width, img_height, img_depth = 64, 128, 128\n",
    "\n",
    "# input_shape = (img_width, img_height, img_depth, 1)\n",
    "\n",
    "# X, y = load_data()\n",
    "# X = np.asarray([x/x.max() for x in X])\n",
    "\n",
    "img_width, img_height, img_depth = 8, 16, 16\n",
    "\n",
    "input_shape = (img_width, img_height, img_depth, 1)\n",
    "\n",
    "# Mock Data\n",
    "X = np.random.uniform(size=(10, img_width, img_height, img_depth, 1))\n",
    "y = np.random.uniform(size=(10, img_width, img_height, img_depth, 1)) > 0.5"
   ]
  },
  {
   "cell_type": "code",
   "execution_count": 13,
   "metadata": {
    "colab": {
     "base_uri": "https://localhost:8080/",
     "height": 34
    },
    "colab_type": "code",
    "id": "xXBABKMsPnIk",
    "outputId": "92aafeaa-55b9-4182-a85c-58a6fc0372cb"
   },
   "outputs": [
    {
     "data": {
      "text/plain": [
       "((10, 8, 16, 16, 1), (10, 8, 16, 16, 1))"
      ]
     },
     "execution_count": 13,
     "metadata": {},
     "output_type": "execute_result"
    }
   ],
   "source": [
    "X.shape, y.shape"
   ]
  },
  {
   "cell_type": "code",
   "execution_count": 14,
   "metadata": {
    "colab": {},
    "colab_type": "code",
    "id": "zBVWYG1zoTxV"
   },
   "outputs": [],
   "source": [
    "from sklearn.model_selection import train_test_split\n",
    "\n",
    "X_train, X_test, y_train, y_test = train_test_split(X, y, test_size=0.20, random_state=42)"
   ]
  },
  {
   "cell_type": "code",
   "execution_count": 15,
   "metadata": {
    "colab": {
     "base_uri": "https://localhost:8080/",
     "height": 85
    },
    "colab_type": "code",
    "id": "7qJHKBD6vCJ1",
    "outputId": "113c8cbe-89e6-4979-8c6a-22549cc1cbe7"
   },
   "outputs": [
    {
     "name": "stdout",
     "output_type": "stream",
     "text": [
      "(8, 8, 16, 16, 1) 0.9999249219004117\n",
      "(2, 8, 16, 16, 1) 0.9998575329415246\n",
      "(8, 8, 16, 16, 1) True\n",
      "(2, 8, 16, 16, 1) True\n"
     ]
    }
   ],
   "source": [
    "for d in [X_train, X_test, y_train, y_test]:\n",
    "  print(d.shape, d.max())\n",
    "  "
   ]
  },
  {
   "cell_type": "markdown",
   "metadata": {
    "colab_type": "text",
    "id": "Ew8H0yhm0cSI"
   },
   "source": [
    "## Augmentation"
   ]
  },
  {
   "cell_type": "code",
   "execution_count": 16,
   "metadata": {
    "colab": {},
    "colab_type": "code",
    "id": "4lAQ-ozEhQMt"
   },
   "outputs": [],
   "source": [
    "def cap_gen(x_batch, y_batch):\n",
    "  while True:\n",
    "      yield ([x_batch, y_batch], [y_batch, y_batch * x_batch])\n",
    "\n",
    "train_cap_gen = cap_gen(X_train, y_train)\n",
    "\n",
    "val_cap_gen = cap_gen(X_test, y_test)"
   ]
  },
  {
   "cell_type": "code",
   "execution_count": 17,
   "metadata": {
    "colab": {},
    "colab_type": "code",
    "id": "zk-pR-prSM0J"
   },
   "outputs": [],
   "source": [
    "import random\n",
    "from skimage.io import imread, imshow, imread_collection, concatenate_images\n",
    "import matplotlib.pyplot as plt\n",
    "\n",
    "%matplotlib inline\n",
    "\n",
    "for inp, out in train_cap_gen:\n",
    "  break\n"
   ]
  },
  {
   "cell_type": "code",
   "execution_count": 18,
   "metadata": {
    "colab": {
     "base_uri": "https://localhost:8080/",
     "height": 34
    },
    "colab_type": "code",
    "id": "Pd0iMSB_M2uA",
    "outputId": "f7d11045-1d7e-406f-9c00-80c9e430e5e0"
   },
   "outputs": [
    {
     "data": {
      "text/plain": [
       "((2, 8, 8, 16, 16, 1), (2, 8, 8, 16, 16, 1))"
      ]
     },
     "execution_count": 18,
     "metadata": {},
     "output_type": "execute_result"
    }
   ],
   "source": [
    "np.asarray(inp).shape,np.asarray(out).shape"
   ]
  },
  {
   "cell_type": "code",
   "execution_count": 20,
   "metadata": {
    "colab": {
     "base_uri": "https://localhost:8080/",
     "height": 368
    },
    "colab_type": "code",
    "id": "Z4kw7uPP0gXf",
    "outputId": "570a90aa-b6b9-4250-d87e-86f9bca36e64"
   },
   "outputs": [
    {
     "name": "stderr",
     "output_type": "stream",
     "text": [
      "/Users/dexterfichuk/anaconda3/lib/python3.6/site-packages/skimage/io/_plugins/matplotlib_plugin.py:51: FutureWarning: Conversion of the second argument of issubdtype from `float` to `np.floating` is deprecated. In future, it will be treated as `np.float64 == np.dtype(float).type`.\n",
      "  out_of_range_float = (np.issubdtype(image.dtype, np.float) and\n"
     ]
    },
    {
     "data": {
      "text/plain": [
       "<matplotlib.image.AxesImage at 0x124b878d0>"
      ]
     },
     "execution_count": 20,
     "metadata": {},
     "output_type": "execute_result"
    },
    {
     "data": {
      "image/png": "[encoded data removed]",
      "text/plain": [
       "<matplotlib.figure.Figure at 0x124a84358>"
      ]
     },
     "metadata": {},
     "output_type": "display_data"
    }
   ],
   "source": [
    "imshow(np.squeeze(inp[0][0][0]))"
   ]
  },
  {
   "cell_type": "code",
   "execution_count": 21,
   "metadata": {
    "colab": {
     "base_uri": "https://localhost:8080/",
     "height": 368
    },
    "colab_type": "code",
    "id": "WDHfX61xNRd2",
    "outputId": "634681b3-1df3-4a5b-e876-2723de0137b8"
   },
   "outputs": [
    {
     "name": "stderr",
     "output_type": "stream",
     "text": [
      "/Users/dexterfichuk/anaconda3/lib/python3.6/site-packages/skimage/io/_plugins/matplotlib_plugin.py:51: FutureWarning: Conversion of the second argument of issubdtype from `float` to `np.floating` is deprecated. In future, it will be treated as `np.float64 == np.dtype(float).type`.\n",
      "  out_of_range_float = (np.issubdtype(image.dtype, np.float) and\n"
     ]
    },
    {
     "data": {
      "text/plain": [
       "<matplotlib.image.AxesImage at 0x124d1e710>"
      ]
     },
     "execution_count": 21,
     "metadata": {},
     "output_type": "execute_result"
    },
    {
     "data": {
      "image/png": "[encoded data removed]",
      "text/plain": [
       "<matplotlib.figure.Figure at 0x124b48cc0>"
      ]
     },
     "metadata": {},
     "output_type": "display_data"
    }
   ],
   "source": [
    "imshow(np.squeeze(out[0][0][0]))"
   ]
  },
  {
   "cell_type": "code",
   "execution_count": 22,
   "metadata": {
    "colab": {
     "base_uri": "https://localhost:8080/",
     "height": 34
    },
    "colab_type": "code",
    "id": "HqFkjyNJn5kv",
    "outputId": "ccc6a4e0-c7cc-45a9-8e70-827ddaa58649"
   },
   "outputs": [
    {
     "data": {
      "text/plain": [
       "((8, 8, 16, 16, 1), (8, 8, 16, 16, 1))"
      ]
     },
     "execution_count": 22,
     "metadata": {},
     "output_type": "execute_result"
    }
   ],
   "source": [
    "inp[0].shape, out[0].shape"
   ]
  },
  {
   "cell_type": "code",
   "execution_count": 25,
   "metadata": {
    "colab": {
     "base_uri": "https://localhost:8080/",
     "height": 1193
    },
    "colab_type": "code",
    "id": "W7omKXDP6jmD",
    "outputId": "3a4e0875-131b-4590-b29a-be73d8ca7da5"
   },
   "outputs": [
    {
     "name": "stdout",
     "output_type": "stream",
     "text": [
      "The autoreload extension is already loaded. To reload it, use:\n",
      "  %reload_ext autoreload\n",
      "Conv 1 Shape: (?, 8, 16, 16, 1)\n",
      "Conv Reshaped Shape: (?, 8, 16, 16, 1, 1)\n",
      "Num Capsule and num atom 8 32\n",
      "Before Transpose (?, 8, 16, 16, 1, 1)\n",
      "Transposed (1, ?, 8, 16, 16, 1)\n",
      "Input sshape (6,)\n",
      "Filter Shape (W) (5, 5, 5, 1, 256)\n",
      "Tensor Reshaped (?, 8, 16, 16, 1)\n",
      "Conv Shape (?, 8, 16, 16, 256)\n",
      "Votes Shape (?, 1, 8, 16, 16, 8, 32)\n",
      "Logit Shape (6,)\n",
      "B shape (1, 1, 1, 8, 32)\n",
      "Updating Routing\n",
      "Votes Transposed (32, ?, 1, 8, 16, 16, 8)\n",
      "Primary Caps (?, 8, 16, 16, 8, 32)\n",
      "Num Capsule and num atom 1 16\n",
      "Before Transpose (?, 8, 16, 16, 8, 32)\n",
      "Transposed (8, ?, 8, 16, 16, 32)\n",
      "Input sshape (6,)\n",
      "Filter Shape (W) (1, 1, 1, 32, 16)\n",
      "Tensor Reshaped (?, 8, 16, 16, 32)\n",
      "Conv Shape (?, 8, 16, 16, 16)\n",
      "Votes Shape (?, 8, 8, 16, 16, 1, 16)\n",
      "Logit Shape (6,)\n",
      "B shape (1, 1, 1, 1, 16)\n",
      "Updating Routing\n",
      "Votes Transposed (16, ?, 8, 8, 16, 16, 1)\n",
      "Length call inuts shape (?, 8, 16, 16, 1, 16)\n",
      "Squeezed length shape (?, 8, 16, 16, 16)\n",
      "Out Seg (?, 8, 16, 16, 1)\n",
      "__________________________________________________________________________________________________\n",
      "Layer (type)                    Output Shape         Param #     Connected to                     \n",
      "==================================================================================================\n",
      "input_7 (InputLayer)            (None, 8, 16, 16, 1) 0                                            \n",
      "__________________________________________________________________________________________________\n",
      "conv1 (Conv3D)                  (None, 8, 16, 16, 1) 126         input_7[0][0]                    \n",
      "__________________________________________________________________________________________________\n",
      "reshape_9 (Reshape)             (None, 8, 16, 16, 1, 0           conv1[0][0]                      \n",
      "__________________________________________________________________________________________________\n",
      "primarycaps (ConvCapsuleLayer)  (None, 8, 16, 16, 8, 32256       reshape_9[0][0]                  \n",
      "__________________________________________________________________________________________________\n",
      "seg_caps (ConvCapsuleLayer)     (None, 8, 16, 16, 1, 528         primarycaps[0][0]                \n",
      "__________________________________________________________________________________________________\n",
      "input_8 (InputLayer)            (None, 8, 16, 16, 1) 0                                            \n",
      "__________________________________________________________________________________________________\n",
      "mask_7 (Mask)                   (None, 8, 16, 16, 1, 0           seg_caps[0][0]                   \n",
      "                                                                 input_8[0][0]                    \n",
      "__________________________________________________________________________________________________\n",
      "reshape_10 (Reshape)            (None, 8, 16, 16, 16 0           mask_7[0][0]                     \n",
      "__________________________________________________________________________________________________\n",
      "recon_1 (Conv3D)                (None, 8, 16, 16, 64 1088        reshape_10[0][0]                 \n",
      "__________________________________________________________________________________________________\n",
      "recon_2 (Conv3D)                (None, 8, 16, 16, 12 8320        recon_1[0][0]                    \n",
      "__________________________________________________________________________________________________\n",
      "out_seg (Length)                (None, 8, 16, 16, 1) 0           seg_caps[0][0]                   \n",
      "__________________________________________________________________________________________________\n",
      "out_recon (Conv3D)              (None, 8, 16, 16, 1) 129         recon_2[0][0]                    \n",
      "==================================================================================================\n",
      "Total params: 42,447\n",
      "Trainable params: 42,447\n",
      "Non-trainable params: 0\n",
      "__________________________________________________________________________________________________\n"
     ]
    }
   ],
   "source": [
    "%load_ext autoreload\n",
    "%autoreload 2\n",
    "\n",
    "from capsule_model import CapsNetBasic\n",
    "\n",
    "train_model, eval_model, manipulate_model = CapsNetBasic((img_width, img_height, img_depth, 1), n_class=2)\n",
    "train_model.summary()"
   ]
  },
  {
   "cell_type": "markdown",
   "metadata": {
    "colab_type": "text",
    "id": "JNovnngwDAOg"
   },
   "source": [
    "2D Summary\n",
    "```\n",
    "conv1 (None, 224, 224, 256)\n",
    "reshape_50 (None, 224, 224, 1, 256)\n",
    "primarycaps (None, 224, 224, 8, 32)\n",
    "seg_caps (None, 224, 224, 1, 16)\n",
    "input_45 (None, 224, 224, 1)\n",
    "mask_29 (None, 224, 224, 1, 16)\n",
    "reshape_51 (None, 224, 224, 16)\n",
    "recon_1 (None, 224, 224, 64)\n",
    "recon_2 (None, 224, 224, 128)\n",
    "out_seg (None, 224, 224, 1)\n",
    "out_recon (None, 224, 224, 1)\n",
    "```"
   ]
  },
  {
   "cell_type": "markdown",
   "metadata": {
    "colab_type": "text",
    "id": "rCwpLSG8LvmO"
   },
   "source": [
    "## CapsNet"
   ]
  },
  {
   "cell_type": "code",
   "execution_count": 28,
   "metadata": {
    "colab": {},
    "colab_type": "code",
    "id": "7NDfgZVJ7uU6"
   },
   "outputs": [],
   "source": [
    "from custom_losses import dice_hard, weighted_binary_crossentropy_loss, dice_loss, margin_loss\n",
    "from keras.optimizers import Adam\n",
    "\n",
    "def get_loss(net='caps', recon_wei=131.072, choice='dice', split=0, pos_class_weight = 4.167675853994922):\n",
    "    \n",
    "    if choice == 'w_bce':\n",
    "        loss = weighted_binary_crossentropy_loss(pos_class_weight)\n",
    "    elif choice == 'bce':\n",
    "        loss = 'binary_crossentropy'\n",
    "    elif choice == 'dice':\n",
    "        loss = dice_loss\n",
    "    elif choice == 'w_mar':\n",
    "        loss = margin_loss(margin=0.4, downweight=0.5, pos_weight=pos_class_weight)\n",
    "    elif choice == 'mar':\n",
    "        loss = margin_loss(margin=0.4, downweight=0.5, pos_weight=1.0)\n",
    "    else:\n",
    "        raise Exception(\"Unknow loss_type\")\n",
    "\n",
    "    if net == 'caps':\n",
    "        return {'out_seg': loss, 'out_recon': 'mse'}, {'out_seg': 1., 'out_recon': recon_wei}\n",
    "    else:\n",
    "        return loss, None\n",
    "\n",
    "      \n",
    "def compile_model(uncomp_model):\n",
    "    # Set optimizer loss and metrics\n",
    "    opt = Adam(lr=0.00005, beta_1=0.99, beta_2=0.999, decay=1e-6)\n",
    "    metrics = {'out_seg': dice_hard}\n",
    "#     metrics = {'out_seg': jaccard_coef}\n",
    "\n",
    "    loss, loss_weighting = get_loss(choice='mar')\n",
    "    \n",
    "    uncomp_model.compile(optimizer=opt, loss=loss, metrics=metrics, loss_weights=loss_weighting)\n",
    "    return uncomp_model\n",
    "  \n"
   ]
  },
  {
   "cell_type": "code",
   "execution_count": 29,
   "metadata": {
    "colab": {},
    "colab_type": "code",
    "id": "8aSxw9PCQ094"
   },
   "outputs": [],
   "source": [
    "model = compile_model(uncomp_model=train_model, )"
   ]
  },
  {
   "cell_type": "markdown",
   "metadata": {
    "colab_type": "text",
    "id": "ZxkpjBacNqZa"
   },
   "source": [
    "## Training"
   ]
  },
  {
   "cell_type": "code",
   "execution_count": 30,
   "metadata": {
    "colab": {},
    "colab_type": "code",
    "id": "YMRIZCEKNhta"
   },
   "outputs": [],
   "source": [
    "import numpy as np\n",
    "# seed(1)\n",
    "from tensorflow import set_random_seed\n",
    "set_random_seed(2)"
   ]
  },
  {
   "cell_type": "code",
   "execution_count": 31,
   "metadata": {
    "colab": {},
    "colab_type": "code",
    "id": "-ufWsLB-NpRn"
   },
   "outputs": [],
   "source": [
    "from keras.callbacks import EarlyStopping, ModelCheckpoint, ReduceLROnPlateau, TensorBoard\n",
    "from time import time\n",
    "import keras.backend as K\n",
    "from google_drive_checkpoint import GoogleDriveCheckpoint\n",
    "\n",
    "monitor_name = 'val_out_seg_dice_hard'\n",
    "# monitor_name = 'val_out_seg_jaccard_coef'\n",
    "\n",
    "earlystopper = EarlyStopping(monitor=monitor_name, min_delta=0, patience=25, verbose=0, mode='max')\n",
    "\n",
    "model_name = \"PROMISE2012-CapsSeg-{}\".format(time())\n",
    "\n",
    "# checkpointer = GoogleDriveCheckpoint(model_name + '.h5', drive, monitor=monitor_name, save_best_only=True, save_weights_only=True,\n",
    "#                                        verbose=1, mode='max')\n",
    "checkpointer = ModelCheckpoint(model_name + '.h5', monitor=monitor_name, save_best_only=True, save_weights_only=True,\n",
    "                                       verbose=1, mode='max')\n",
    "\n",
    "reduce_lr = ReduceLROnPlateau(monitor=monitor_name, factor=0.05, cooldown=0, patience=5, verbose=1, mode='max')\n",
    "\n",
    "tb = TensorBoard(log_dir=os.path.join(\"log\", model_name))\n",
    "\n",
    "# sched = keras.callbacks.LearningRateScheduler(schedule, verbose=1)\n",
    "\n",
    "callbacks = [\n",
    "      earlystopper,\n",
    "      checkpointer,\n",
    "#       sched,\n",
    "      reduce_lr,\n",
    "      tb\n",
    "]\n"
   ]
  },
  {
   "cell_type": "code",
   "execution_count": null,
   "metadata": {
    "colab": {
     "base_uri": "https://localhost:8080/",
     "height": 3142
    },
    "colab_type": "code",
    "id": "sTkw8K9WtAEn",
    "outputId": "d9ea38f2-6f38-4a1a-dc9e-82af4b6b77cf"
   },
   "outputs": [
    {
     "name": "stdout",
     "output_type": "stream",
     "text": [
      "Epoch 1/400\n",
      "13/40 [========>.....................] - ETA: 2:54 - loss: 21.8061 - out_seg_loss: 0.0540 - out_recon_loss: 0.1660 - out_seg_dice_hard: 0.6732"
     ]
    }
   ],
   "source": [
    "history = model.fit_generator(train_cap_gen, validation_data=val_cap_gen, \n",
    "                                      epochs=400, callbacks=callbacks, verbose = 1,\n",
    "                                      shuffle = True,\n",
    "                                      max_queue_size=40, workers=4, use_multiprocessing=False,\n",
    "                                      steps_per_epoch=len(X_train)*5,\n",
    "                                      validation_steps=len(X_test))"
   ]
  }
 ],
 "metadata": {
  "accelerator": "GPU",
  "colab": {
   "collapsed_sections": [
    "DHhPVeF2Jkbg",
    "NFKBdAVLHPCm",
    "jXyTrabk64X5"
   ],
   "name": "PROMISE_3d_segcaps.ipynb",
   "provenance": [],
   "toc_visible": true,
   "version": "0.3.2"
  },
  "kernelspec": {
   "display_name": "Python 3",
   "language": "python",
   "name": "python3"
  },
  "language_info": {
   "codemirror_mode": {
    "name": "ipython",
    "version": 3
   },
   "file_extension": ".py",
   "mimetype": "text/x-python",
   "name": "python",
   "nbconvert_exporter": "python",
   "pygments_lexer": "ipython3",
   "version": "3.6.3"
  }
 },
 "nbformat": 4,
 "nbformat_minor": 2
}
